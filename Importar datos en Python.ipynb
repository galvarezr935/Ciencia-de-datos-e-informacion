{
 "cells": [
  {
   "cell_type": "markdown",
   "id": "9a94514c",
   "metadata": {},
   "source": [
    "<h1 Style=\"color:#8B0000\">Importar datos en Python de diferentes formas</h1>"
   ]
  },
  {
   "cell_type": "markdown",
   "id": "48b0603d",
   "metadata": {},
   "source": [
    "<h3>Archivos planos</h3>"
   ]
  },
  {
   "cell_type": "code",
   "execution_count": 1,
   "id": "77570c31",
   "metadata": {},
   "outputs": [
    {
     "ename": "NameError",
     "evalue": "name 'np' is not defined",
     "output_type": "error",
     "traceback": [
      "\u001b[1;31m---------------------------------------------------------------------------\u001b[0m",
      "\u001b[1;31mNameError\u001b[0m                                 Traceback (most recent call last)",
      "\u001b[1;32m~\\AppData\\Local\\Temp\\ipykernel_8288\\3267895704.py\u001b[0m in \u001b[0;36m<module>\u001b[1;34m\u001b[0m\n\u001b[1;32m----> 1\u001b[1;33m \u001b[0mdata\u001b[0m \u001b[1;33m=\u001b[0m \u001b[0mnp\u001b[0m\u001b[1;33m.\u001b[0m\u001b[0mrecfromcsv\u001b[0m\u001b[1;33m(\u001b[0m\u001b[0mfile\u001b[0m\u001b[1;33m)\u001b[0m\u001b[1;33m\u001b[0m\u001b[1;33m\u001b[0m\u001b[0m\n\u001b[0m",
      "\u001b[1;31mNameError\u001b[0m: name 'np' is not defined"
     ]
    }
   ],
   "source": [
    "data = np.recfromcsv(file)"
   ]
  },
  {
   "cell_type": "markdown",
   "id": "b30c55f6",
   "metadata": {},
   "source": [
    "data = np.loadtxt('file.csv', delimiter=',', skiprows=1, usecols=[0,2])"
   ]
  },
  {
   "cell_type": "code",
   "execution_count": null,
   "id": "b4b6b337",
   "metadata": {},
   "outputs": [],
   "source": [
    "data = np.genfromtxt('titanic.csv', delimiter=',', names=True, dtype=None)"
   ]
  },
  {
   "cell_type": "code",
   "execution_count": null,
   "id": "2fa3f26c",
   "metadata": {},
   "outputs": [],
   "source": [
    "data = pd.read_csv(file, nrows=5, header=None, sep='\\t', comment='#', na_values='Nothing')"
   ]
  },
  {
   "cell_type": "code",
   "execution_count": null,
   "id": "0387ef79",
   "metadata": {},
   "outputs": [],
   "source": [
    "import pickle\n",
    "with open('data.pkl', 'rb') as file:\n",
    "d = pickle.load(file)\n",
    "print(d)"
   ]
  },
  {
   "cell_type": "markdown",
   "id": "578ad50c",
   "metadata": {},
   "source": [
    "<h2>Excel</h2>"
   ]
  },
  {
   "cell_type": "code",
   "execution_count": null,
   "id": "2e5ccad4",
   "metadata": {},
   "outputs": [],
   "source": [
    "df = pd.read_excel('file.xlsx', sheet_name='sheet1')"
   ]
  },
  {
   "cell_type": "code",
   "execution_count": null,
   "id": "728c3461",
   "metadata": {},
   "outputs": [],
   "source": [
    "from sas7bdat import SAS7BDAT\n",
    "with SAS7BDAT('some_data.sas7bdat') as file:\n",
    "df_sas = file.to_data_frame()"
   ]
  },
  {
   "cell_type": "code",
   "execution_count": null,
   "id": "b79495c7",
   "metadata": {},
   "outputs": [],
   "source": [
    "df = pd.read_stata('file.dta')"
   ]
  },
  {
   "cell_type": "markdown",
   "id": "65034450",
   "metadata": {},
   "source": [
    "<h2>HDF5</h2>"
   ]
  },
  {
   "cell_type": "code",
   "execution_count": null,
   "id": "a8c388b4",
   "metadata": {},
   "outputs": [],
   "source": [
    "import h5py\n",
    "\n",
    "# Load file:\n",
    "data = h5py.File('file.hdf5', 'r')\n",
    "\n",
    "# Print the keys of the file\n",
    "for key in data.keys():\n",
    "print(key)\n",
    "\n",
    "# Now when we know the keys we can get the HDF5 group\n",
    "group = data['group_name']\n",
    "\n",
    "# Going one level deeper, check out keys of group\n",
    "for key in group.keys():\n",
    "print(key)\n",
    "\n",
    "# And so on and so on"
   ]
  },
  {
   "cell_type": "markdown",
   "id": "2479384e",
   "metadata": {},
   "source": [
    "<h2>MATLAB</h2>"
   ]
  },
  {
   "cell_type": "code",
   "execution_count": null,
   "id": "9d172b3e",
   "metadata": {},
   "outputs": [],
   "source": [
    "import scipy.io\n",
    "mat = scipy.io.loadmat('some_project.mat')\n",
    "print(mat.keys())"
   ]
  },
  {
   "cell_type": "code",
   "execution_count": null,
   "id": "0ae42b38",
   "metadata": {},
   "outputs": [],
   "source": [
    "from sqlalchemy \n",
    "import create_engine\n",
    "import pandas as pd\n",
    "\n",
    "# Create engine\n",
    "engine = create_engine('sqlite:///localdb.sqlite')\n",
    "\n",
    "# Execute query and store records in DataFrame\n",
    "df = pd.read_sql_query(\"select * from table\", engine)"
   ]
  },
  {
   "cell_type": "markdown",
   "id": "d539c4c5",
   "metadata": {},
   "source": [
    "<h2>Datos de la Web</h2>"
   ]
  },
  {
   "cell_type": "code",
   "execution_count": null,
   "id": "00a45fec",
   "metadata": {},
   "outputs": [],
   "source": [
    " df = pd.read_csv('https://www.example.com/data.csv', sep=';')"
   ]
  },
  {
   "cell_type": "code",
   "execution_count": null,
   "id": "fb81c06b",
   "metadata": {},
   "outputs": [],
   "source": [
    "import requests\n",
    "r = requests.get('http://www.example.com/some_html_page') print(r.text)"
   ]
  },
  {
   "cell_type": "code",
   "execution_count": null,
   "id": "32c8b84b",
   "metadata": {},
   "outputs": [],
   "source": [
    "from bs4 import BeautifulSoup\n",
    "html_doc = r.text\n",
    "\n",
    "# Create a BeautifulSoup object from the HTML\n",
    "soup = BeautifulSoup(html_doc)\n",
    "\n",
    "# Find all 'a' tags (which define hyperlinks)\n",
    "a_tags = soup.find_all('a')\n",
    "\n",
    "# Print the URLs to the shell\n",
    "for link in a_tags:\n",
    "print(link.get('href'))"
   ]
  },
  {
   "cell_type": "markdown",
   "id": "19001226",
   "metadata": {},
   "source": [
    "<h2>API</h2>"
   ]
  },
  {
   "cell_type": "code",
   "execution_count": null,
   "id": "032e88d8",
   "metadata": {},
   "outputs": [],
   "source": [
    "import requests\n",
    "r = requests.get('https://www.example.com/some_endpoint')\n",
    "\n",
    "# Decode the JSON data into a dictionary:\n",
    "json_data = r.json()\n",
    "\n",
    "# Print each key-value pair in json_data\n",
    "for k in json_data.keys():\n",
    "print(k + ': ', json_data[k])"
   ]
  },
  {
   "cell_type": "code",
   "execution_count": null,
   "id": "e9784c82",
   "metadata": {},
   "outputs": [],
   "source": []
  }
 ],
 "metadata": {
  "kernelspec": {
   "display_name": "Python 3 (ipykernel)",
   "language": "python",
   "name": "python3"
  },
  "language_info": {
   "codemirror_mode": {
    "name": "ipython",
    "version": 3
   },
   "file_extension": ".py",
   "mimetype": "text/x-python",
   "name": "python",
   "nbconvert_exporter": "python",
   "pygments_lexer": "ipython3",
   "version": "3.9.13"
  }
 },
 "nbformat": 4,
 "nbformat_minor": 5
}
