{
 "cells": [
  {
   "cell_type": "markdown",
   "id": "a36e7231",
   "metadata": {},
   "source": [
    "<h1 Style=\"color:#8B0000\">Python para todos: 5 formas de cargar datos para tus proyectos</h1>"
   ]
  },
  {
   "cell_type": "markdown",
   "id": "7922353c",
   "metadata": {},
   "source": [
    "<h3>1. Usando el módulo csv de la librería estándar</h3>"
   ]
  },
  {
   "cell_type": "code",
   "execution_count": null,
   "id": "d8ab7798",
   "metadata": {},
   "outputs": [],
   "source": [
    "import os\n",
    "os.chdir(\"C:\\\\Datos\")\n",
    "os.getcwd()\n",
    "\n",
    "import csv\n",
    "f= open(\"diabetes.csv\")\n",
    "reader = csv.reader(f)\n",
    "for row in reader:\n",
    "    print (row)   "
   ]
  },
  {
   "cell_type": "markdown",
   "id": "b45d7a9d",
   "metadata": {},
   "source": [
    "<h3>2. Usando NumPy</h3>"
   ]
  },
  {
   "cell_type": "code",
   "execution_count": null,
   "id": "eb8808d5",
   "metadata": {},
   "outputs": [],
   "source": [
    "import numpy\n",
    "filename = 'diabetes.csv'\n",
    "raw_data = open(filename)\n",
    "data = numpy.loadtxt(raw_data, delimiter=\",\",skiprows=1)\n",
    "print(data.shape)\n",
    "print(data)"
   ]
  },
  {
   "cell_type": "markdown",
   "id": "a7c78bd0",
   "metadata": {},
   "source": [
    "<h3>3. Usando Pandas</h3>"
   ]
  },
  {
   "cell_type": "code",
   "execution_count": null,
   "id": "a2df4742",
   "metadata": {},
   "outputs": [],
   "source": [
    "import pandas\n",
    "filename = 'diabetes.csv'\n",
    "data = pandas.read_csv(filename, header=0)\n",
    "\n",
    "print(data.shape)\n",
    "print (data.head(10))"
   ]
  },
  {
   "cell_type": "markdown",
   "id": "66b21818",
   "metadata": {},
   "source": [
    "<h3>4. Desde URL.</h3>"
   ]
  },
  {
   "cell_type": "code",
   "execution_count": 4,
   "id": "69754997",
   "metadata": {},
   "outputs": [
    {
     "name": "stdout",
     "output_type": "stream",
     "text": [
      "     preg  plas  pres  skin  insu  mass   pedi  age            class\n",
      "0       6   148    72    35     0  33.6  0.627   50  tested_positive\n",
      "1       1    85    66    29     0  26.6  0.351   31  tested_negative\n",
      "2       8   183    64     0     0  23.3  0.672   32  tested_positive\n",
      "3       1    89    66    23    94  28.1  0.167   21  tested_negative\n",
      "4       0   137    40    35   168  43.1  2.288   33  tested_positive\n",
      "..    ...   ...   ...   ...   ...   ...    ...  ...              ...\n",
      "763    10   101    76    48   180  32.9  0.171   63  tested_negative\n",
      "764     2   122    70    27     0  36.8  0.340   27  tested_negative\n",
      "765     5   121    72    23   112  26.2  0.245   30  tested_negative\n",
      "766     1   126    60     0     0  30.1  0.349   47  tested_positive\n",
      "767     1    93    70    31     0  30.4  0.315   23  tested_negative\n",
      "\n",
      "[768 rows x 9 columns]\n"
     ]
    }
   ],
   "source": [
    "import pandas\n",
    "url = \"https://datahub.io/machine-learning/diabetes/r/diabetes.csv\"\n",
    "data = pandas.read_csv(url)\n",
    "print(data)"
   ]
  },
  {
   "cell_type": "code",
   "execution_count": null,
   "id": "8cb54047",
   "metadata": {},
   "outputs": [],
   "source": []
  }
 ],
 "metadata": {
  "kernelspec": {
   "display_name": "Python 3 (ipykernel)",
   "language": "python",
   "name": "python3"
  },
  "language_info": {
   "codemirror_mode": {
    "name": "ipython",
    "version": 3
   },
   "file_extension": ".py",
   "mimetype": "text/x-python",
   "name": "python",
   "nbconvert_exporter": "python",
   "pygments_lexer": "ipython3",
   "version": "3.9.13"
  }
 },
 "nbformat": 4,
 "nbformat_minor": 5
}
