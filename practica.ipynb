{
 "cells": [
  {
   "cell_type": "markdown",
   "id": "0582c5fa",
   "metadata": {},
   "source": [
    "<h1>Metodología CRISP-DM</h1>"
   ]
  },
  {
   "cell_type": "markdown",
   "id": "5ac74164",
   "metadata": {},
   "source": [
    "<img src='CRISP.jpg'>"
   ]
  },
  {
   "cell_type": "markdown",
   "id": "07b1cd0c",
   "metadata": {},
   "source": [
    "<P>CRIPS-DM</p>\n",
    "<P>es un método probado para orientar sus trabajos de minería de datos</p>"
   ]
  },
  {
   "cell_type": "markdown",
   "id": "eee1cb58",
   "metadata": {},
   "source": [
    "<h2>Metodología BADIR</h2>"
   ]
  },
  {
   "cell_type": "markdown",
   "id": "908f268d",
   "metadata": {},
   "source": [
    "<img src='BADIR.png.png'>"
   ]
  },
  {
   "cell_type": "markdown",
   "id": "4e0be4fd",
   "metadata": {},
   "source": [
    "## Pregunta Comercial\n",
    "## Plan de análisis\n",
    "## Recopilación de datos\n",
    "## Obtener información\n",
    "## Recomendaciones"
   ]
  },
  {
   "cell_type": "code",
   "execution_count": null,
   "id": "5194cc7c",
   "metadata": {},
   "outputs": [],
   "source": []
  }
 ],
 "metadata": {
  "kernelspec": {
   "display_name": "Python 3 (ipykernel)",
   "language": "python",
   "name": "python3"
  },
  "language_info": {
   "codemirror_mode": {
    "name": "ipython",
    "version": 3
   },
   "file_extension": ".py",
   "mimetype": "text/x-python",
   "name": "python",
   "nbconvert_exporter": "python",
   "pygments_lexer": "ipython3",
   "version": "3.9.13"
  }
 },
 "nbformat": 4,
 "nbformat_minor": 5
}
